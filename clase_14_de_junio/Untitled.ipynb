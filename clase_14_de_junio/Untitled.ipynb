{
 "cells": [
  {
   "cell_type": "code",
   "execution_count": 11,
   "metadata": {},
   "outputs": [
    {
     "name": "stdout",
     "output_type": "stream",
     "text": [
      "100.00083333194436\n",
      "100.00083333194436 [4.0531158447265625e-05]\n"
     ]
    }
   ],
   "source": [
    "from numpy import*\n",
    "from pylab import*\n",
    "from math import*\n",
    "\n",
    "beta=0.01\n",
    "N=1e6\n",
    "s=0\n",
    "z=0\n",
    "for n in range (int (N)):\n",
    "    E=n+0.5\n",
    "    w=exp(-beta*E)\n",
    "    s+=E*w\n",
    "    z+=w\n",
    "    \n",
    "print(s/z)\n",
    "\n",
    "ts=time.time()\n",
    "print(s/z,[time.time()-ts])"
   ]
  },
  {
   "cell_type": "code",
   "execution_count": 16,
   "metadata": {},
   "outputs": [],
   "source": [
    "from numpy import*\n",
    "from pylab import*\n",
    "from math import*\n",
    "\n",
    "def multiplicacionMatriz(A,B):\n",
    "    # Obtenemos las dimensiones de la matriz\n",
    "    numFilasA = len(A)\n",
    "    numFilasB = len(B)\n",
    "    numColumnasA = len(A[0])\n",
    "    numColumnasB = len(B[0])\n",
    "    \n",
    "    if numFilasA == numFilasB and numColumnasA == numColumnasB:\n",
    "        C = newMatrix(numFilasA, numColumnasA, 0) # Creamos una matriz\n",
    "        for i in range(numFilasA): \n",
    "            for j in range(numColumnasA):\n",
    "                # En la nueva matriz plasmamaos los resultados\n",
    "                C[i][j] = A[i][j] * B[i][j]\n",
    "                    \n",
    "    # Retornamos la matriz con los resultados\n",
    "    return C\n",
    "\n"
   ]
  },
  {
   "cell_type": "code",
   "execution_count": null,
   "metadata": {},
   "outputs": [],
   "source": []
  }
 ],
 "metadata": {
  "kernelspec": {
   "display_name": "Python 3",
   "language": "python",
   "name": "python3"
  },
  "language_info": {
   "codemirror_mode": {
    "name": "ipython",
    "version": 3
   },
   "file_extension": ".py",
   "mimetype": "text/x-python",
   "name": "python",
   "nbconvert_exporter": "python",
   "pygments_lexer": "ipython3",
   "version": "3.7.3"
  }
 },
 "nbformat": 4,
 "nbformat_minor": 2
}
