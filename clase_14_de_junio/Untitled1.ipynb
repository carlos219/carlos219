{
 "cells": [
  {
   "cell_type": "code",
   "execution_count": null,
   "metadata": {},
   "outputs": [],
   "source": [
    "n = int(input(\"Ingrese el numero para n: \"))\n",
    "m = int(input(\"Ingrese el numero para m: \"))\n",
    "suma = 0\n",
    "if n > m:\n",
    "    print (\"n debe ser mayor que m\")\n",
    "else:\n",
    "    for x in range(n,m+1):\n",
    "        suma += x\n",
    "    print (suma)"
   ]
  }
 ],
 "metadata": {
  "kernelspec": {
   "display_name": "Python 3",
   "language": "python",
   "name": "python3"
  },
  "language_info": {
   "codemirror_mode": {
    "name": "ipython",
    "version": 3
   },
   "file_extension": ".py",
   "mimetype": "text/x-python",
   "name": "python",
   "nbconvert_exporter": "python",
   "pygments_lexer": "ipython3",
   "version": "3.7.3"
  }
 },
 "nbformat": 4,
 "nbformat_minor": 2
}
