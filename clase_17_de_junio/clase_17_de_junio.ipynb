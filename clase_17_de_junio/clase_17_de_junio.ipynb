{
 "cells": [
  {
   "cell_type": "code",
   "execution_count": 2,
   "metadata": {},
   "outputs": [
    {
     "name": "stdout",
     "output_type": "stream",
     "text": [
      "VALOR DE H: 2e-05\n",
      "la integral de sqrt(1-x**2):  1.5707962742034223\n"
     ]
    }
   ],
   "source": [
    "from math import*\n",
    "N=100000\n",
    "H=2/N\n",
    "print(\"VALOR DE H:\",H)\n",
    "I=0\n",
    "for k in range(1,N):\n",
    "    xi=-1+k*H\n",
    "    yi=sqrt(1-(xi)**2)\n",
    "    I+=H*yi\n",
    "print(\"la integral de sqrt(1-x**2): \",I)"
   ]
  },
  {
   "cell_type": "code",
   "execution_count": 16,
   "metadata": {},
   "outputs": [
    {
     "name": "stdout",
     "output_type": "stream",
     "text": [
      "0.99498743710662\n",
      "0.9797958971132712\n",
      "0.9539392014169457\n",
      "0.916515138991168\n",
      "0.8660254037844386\n",
      "0.7999999999999999\n",
      "0.714142842854285\n",
      "0.5999999999999999\n",
      "la integral de sqrt(1-x**2):  1.0825405921266729\n"
     ]
    }
   ],
   "source": [
    "N=10\n",
    "h=1/N\n",
    "a=0\n",
    "b=1\n",
    "Ak=0\n",
    "for k in range(1,N-1):\n",
    "    xi=a+k*h\n",
    "    f=sqrt(1-(xi)**2)\n",
    "    print(f)   \n",
    "    Ak+=h*((sqrt(1-(0)**2)*1/2)+f)\n",
    "print(\"la integral de sqrt(1-x**2): \",Ak)\n"
   ]
  },
  {
   "cell_type": "code",
   "execution_count": 35,
   "metadata": {},
   "outputs": [
    {
     "name": "stdout",
     "output_type": "stream",
     "text": [
      "1.5707963267948983\n"
     ]
    }
   ],
   "source": [
    "from sympy import*\n",
    "from scipy.integrate import quad\n",
    "\n",
    "def integrand(x):\n",
    "    return sqrt(1-(x**2))\n",
    "\n",
    "ans, err = quad(integrand, -1, 1)\n",
    "print (ans)"
   ]
  },
  {
   "cell_type": "code",
   "execution_count": 36,
   "metadata": {},
   "outputs": [
    {
     "name": "stdout",
     "output_type": "stream",
     "text": [
      "4.3999999999999995\n"
     ]
    }
   ],
   "source": [
    "from scipy.integrate import quad\n",
    "\n",
    "def integrand(x):\n",
    "    return (x**4)-2*x+1\n",
    "\n",
    "ans, err = quad(integrand, 0, 2)\n",
    "print (ans)"
   ]
  },
  {
   "cell_type": "code",
   "execution_count": 60,
   "metadata": {},
   "outputs": [
    {
     "data": {
      "image/png": "[encoded data removed]",
      "text/plain": [
       "<Figure size 432x288 with 1 Axes>"
      ]
     },
     "metadata": {
      "needs_background": "light"
     },
     "output_type": "display_data"
    }
   ],
   "source": [
    "from numpy import*\n",
    "from pylab import*\n",
    "datave= loadtxt(\"velocities.txt\",float)\n",
    "\n",
    "plot(datave[:,0],datave[:,1])\n",
    "grid(\"on\")\n",
    "\n",
    "show()"
   ]
  },
  {
   "cell_type": "code",
   "execution_count": null,
   "metadata": {},
   "outputs": [],
   "source": []
  }
 ],
 "metadata": {
  "kernelspec": {
   "display_name": "Python 3",
   "language": "python",
   "name": "python3"
  },
  "language_info": {
   "codemirror_mode": {
    "name": "ipython",
    "version": 3
   },
   "file_extension": ".py",
   "mimetype": "text/x-python",
   "name": "python",
   "nbconvert_exporter": "python",
   "pygments_lexer": "ipython3",
   "version": "3.7.3"
  }
 },
 "nbformat": 4,
 "nbformat_minor": 2
}
